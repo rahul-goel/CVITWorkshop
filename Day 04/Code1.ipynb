{
 "cells": [
  {
   "cell_type": "markdown",
   "metadata": {
    "id": "6VVfhamMyX5Z"
   },
   "source": [
    "https://scikit-learn.org/stable/modules/generated/sklearn.linear_model.SGDClassifier.html#sklearn.linear_model.SGDClassifier"
   ]
  },
  {
   "cell_type": "code",
   "execution_count": 1,
   "metadata": {
    "colab": {
     "base_uri": "https://localhost:8080/"
    },
    "id": "3U9KMrm_pP6o",
    "outputId": "ebe81d10-8145-4165-ace9-5390114b289b"
   },
   "outputs": [
    {
     "name": "stdout",
     "output_type": "stream",
     "text": [
      "Populating the interactive namespace from numpy and matplotlib\n"
     ]
    }
   ],
   "source": [
    "%pylab inline\n",
    "#Populating the interactive namespace from numpy and matplotlib\n",
    "#Import scikit-learn, numpy and pyplot\n",
    "import sklearn as sk\n",
    "import numpy as np\n",
    "import matplotlib.pyplot as plt"
   ]
  },
  {
   "cell_type": "markdown",
   "metadata": {
    "id": "TtXk19yhsAE5"
   },
   "source": [
    "This data sets consists of 3 different types of irises’ (Setosa, Versicolour, and Virginica) petal and sepal length, stored in a 150x4 numpy.ndarray\n",
    "\n",
    "The rows being the samples and the columns being: Sepal Length, Sepal Width, Petal Length and Petal Width.\n",
    "\n",
    "https://scikit-learn.org/stable/auto_examples/datasets/plot_iris_dataset.html"
   ]
  },
  {
   "cell_type": "code",
   "execution_count": 2,
   "metadata": {
    "colab": {
     "base_uri": "https://localhost:8080/"
    },
    "id": "3l_Rt1GypQhG",
    "outputId": "1c969a54-8a3d-4d48-9eaf-72becb52197f"
   },
   "outputs": [
    {
     "name": "stdout",
     "output_type": "stream",
     "text": [
      "(150, 4) (150,)\n",
      "[5.1 3.5 1.4 0.2] 0\n"
     ]
    }
   ],
   "source": [
    "#Load Iris dataset\n",
    "from sklearn import datasets\n",
    "iris = datasets.load_iris()\n",
    "X_iris, y_iris = iris.data, iris.target\n",
    "print(X_iris.shape, y_iris.shape)\n",
    "print( X_iris[0], y_iris[0])"
   ]
  },
  {
   "cell_type": "code",
   "execution_count": 3,
   "metadata": {
    "colab": {
     "base_uri": "https://localhost:8080/"
    },
    "id": "-OaK4AgZpV2N",
    "outputId": "7a828a53-3d6a-4473-d7ea-10e1898d38e6"
   },
   "outputs": [
    {
     "name": "stdout",
     "output_type": "stream",
     "text": [
      "(112, 2) (112,)\n"
     ]
    }
   ],
   "source": [
    "from sklearn.model_selection import train_test_split\n",
    "from sklearn.preprocessing import StandardScaler\n",
    "\n",
    "# Get dataset with only the first two attributes\n",
    "X, y = X_iris[:,:2], y_iris\n",
    "# Split the dataset into a training and a testing set\n",
    "# Test set will be the 25% taken randomly\n",
    "X_train, X_test, y_train, y_test = train_test_split(X, y, test_size=0.25, random_state=33)\n",
    "print (X_train.shape, y_train.shape)"
   ]
  },
  {
   "cell_type": "markdown",
   "metadata": {
    "id": "Sv8ozixfsaL0"
   },
   "source": [
    "## Standarize the features"
   ]
  },
  {
   "cell_type": "code",
   "execution_count": 4,
   "metadata": {
    "id": "YMmz-lnVpbiV"
   },
   "outputs": [],
   "source": [
    "#For each feature, calculate the average, subtract the mean\n",
    "#value from the feature value, and divide the result by their standard deviation. After\n",
    "#scaling, each feature will have a zero average, with a standard deviation of one.\n",
    "scaler = StandardScaler().fit(X_train)\n",
    "X_train = scaler.transform(X_train)\n",
    "\n",
    "X_test = scaler.transform(X_test)"
   ]
  },
  {
   "cell_type": "markdown",
   "metadata": {
    "id": "RakeGvCesdV4"
   },
   "source": [
    "## Visualise the data"
   ]
  },
  {
   "cell_type": "code",
   "execution_count": 5,
   "metadata": {
    "colab": {
     "base_uri": "https://localhost:8080/",
     "height": 281
    },
    "id": "8R_5DJIFqChP",
    "outputId": "bb36ebe8-6d8c-4fd4-d804-b04a1b8283d1"
   },
   "outputs": [
    {
     "data": {
      "image/png": "[encoded data removed]",
      "text/plain": [
       "<Figure size 432x288 with 1 Axes>"
      ]
     },
     "metadata": {
      "needs_background": "light"
     },
     "output_type": "display_data"
    }
   ],
   "source": [
    "colors = ['red', 'greenyellow', 'blue']\n",
    "for i in range(len(colors)):\n",
    "    px = X_train[:, 0][y_train == i]\n",
    "    py = X_train[:, 1][y_train == i]\n",
    "    plt.scatter(px, py, c=colors[i])\n",
    "\n",
    "plt.legend(iris.target_names)\n",
    "plt.xlabel('Sepal length')\n",
    "plt.ylabel('Sepal width')\n",
    "plt.show()"
   ]
  },
  {
   "cell_type": "markdown",
   "metadata": {
    "id": "B5Bg5Xa8shKL"
   },
   "source": [
    "## Setting up the classifier"
   ]
  },
  {
   "cell_type": "code",
   "execution_count": 6,
   "metadata": {
    "colab": {
     "base_uri": "https://localhost:8080/"
    },
    "id": "yRO7wUgWqJLr",
    "outputId": "b5f220ac-73c3-413a-d978-7db12fd8dd22"
   },
   "outputs": [
    {
     "data": {
      "text/plain": [
       "SGDClassifier()"
      ]
     },
     "execution_count": 6,
     "metadata": {},
     "output_type": "execute_result"
    }
   ],
   "source": [
    "# create the linear model classifier\n",
    "from sklearn.linear_model import SGDClassifier\n",
    "clf = SGDClassifier()\n",
    "# fit (train) the classifier\n",
    "clf.fit(X_train, y_train)"
   ]
  },
  {
   "cell_type": "markdown",
   "metadata": {
    "id": "Auk8MjVmsl31"
   },
   "source": [
    "Here we have taken the default arguements of the classifier's hyperparameters. You can tune these using a validation dataset to get the best out of the model."
   ]
  },
  {
   "cell_type": "code",
   "execution_count": 7,
   "metadata": {
    "colab": {
     "base_uri": "https://localhost:8080/"
    },
    "id": "FUJ_PNwMqOLv",
    "outputId": "6acf801e-5464-4374-ff62-0b60b40465ef"
   },
   "outputs": [
    {
     "name": "stdout",
     "output_type": "stream",
     "text": [
      "[[-32.02904763  20.11274605]\n",
      " [ -3.33064359  -4.52053378]\n",
      " [  5.73210799  -2.05945314]]\n",
      "[-16.93465007  -3.52738017  -3.72505152]\n"
     ]
    }
   ],
   "source": [
    "# print learned coeficients\n",
    "print (clf.coef_)\n",
    "print (clf.intercept_)"
   ]
  },
  {
   "cell_type": "markdown",
   "metadata": {
    "id": "h78uyP5vs2D3"
   },
   "source": [
    "<b>coef_</b>: ndarray of shape (1, n_features) if n_classes == 2 else (n_classes, n_features) Weights assigned to the features. <br>\n",
    "<b>intercept_</b>: ndarray of shape (1,) if n_classes == 2 else (n_classes,) Constants in decision function.\n",
    "\n"
   ]
  },
  {
   "cell_type": "markdown",
   "metadata": {
    "id": "8H7PdqI9xNgR"
   },
   "source": [
    "Let us create a reduced version of this Iris dataset consisting of only two classes and see how the coef_ and intercept_ features differ in shape."
   ]
  },
  {
   "cell_type": "code",
   "execution_count": 8,
   "metadata": {
    "colab": {
     "base_uri": "https://localhost:8080/"
    },
    "id": "JVbduJTaxVty",
    "outputId": "67832a2c-4b02-49ca-c25e-6821f8a37e5d"
   },
   "outputs": [
    {
     "name": "stdout",
     "output_type": "stream",
     "text": [
      "[[ 35.06694989 -16.85083753]]\n",
      "[23.85341666]\n"
     ]
    }
   ],
   "source": [
    "indices = np.where(y_train!=2)\n",
    "X_train_binary, y_train_binary = X_train[indices], y_train[indices]\n",
    "\n",
    "indices = np.where(y_test!=2)\n",
    "X_test_binary, y_test_binary = X_test[indices], y_test[indices]\n",
    "\n",
    "clf_binary = SGDClassifier()\n",
    "# fit (train) the classifier\n",
    "clf_binary.fit(X_train_binary, y_train_binary)\n",
    "\n",
    "# print learned coeficients\n",
    "print (clf_binary.coef_)\n",
    "print (clf_binary.intercept_)"
   ]
  },
  {
   "cell_type": "markdown",
   "metadata": {
    "id": "IW1_QPPFxp_q"
   },
   "source": [
    "<b>Why does our (non binary dataset related) coefficient matrix have three rows?</b><br>\n",
    "It is facing a three-class problem, not a binary decision problem.\n",
    "\n",
    "The three rows of the coef matrix represent the three linear classifier lines, one for each class. Similarly the three intercept values are the constants for each of the three linear classifier boundaries.\n",
    "\n",
    "The classifier converts the problem into three binary classification problems in a one-versus-all setting (it proposes three lines that separate a class from the rest).\n",
    "<br>\n",
    "\n",
    "We will continue working on the full non binary classification dataset."
   ]
  },
  {
   "cell_type": "markdown",
   "metadata": {
    "id": "JmKmlOe2uCC2"
   },
   "source": [
    "## Visualising the data class boundaries"
   ]
  },
  {
   "cell_type": "code",
   "execution_count": 9,
   "metadata": {
    "colab": {
     "base_uri": "https://localhost:8080/",
     "height": 269
    },
    "id": "rRDtVZI9qVTF",
    "outputId": "704cdfb5-3173-4260-d861-d2d64135d25e"
   },
   "outputs": [
    {
     "data": {
      "image/png": "[encoded data removed]",
      "text/plain": [
       "<Figure size 720x432 with 3 Axes>"
      ]
     },
     "metadata": {
      "needs_background": "light"
     },
     "output_type": "display_data"
    }
   ],
   "source": [
    "x_min, x_max = X_train[:, 0].min() - .5, X_train[:, 0].max() + .5\n",
    "y_min, y_max = X_train[:, 1].min() - .5, X_train[:, 1].max() + .5\n",
    "xs = np.arange(x_min,x_max,0.5)\n",
    "fig, axes = plt.subplots(1,3)\n",
    "fig.set_size_inches(10,6)\n",
    "for i in [0,1,2]:\n",
    "    axes[i].set_aspect('equal')\n",
    "    axes[i].set_title('Class ' + str(i) + ' versus the rest')\n",
    "    axes[i].set_xlabel('Sepal length')\n",
    "    axes[i].set_ylabel('Sepal width')\n",
    "    axes[i].set_xlim(x_min, x_max)\n",
    "    axes[i].set_ylim(y_min, y_max)\n",
    "    sca(axes[i])\n",
    "    for j in range(len(colors)):\n",
    "        px = X_train[:, 0][y_train == j]\n",
    "        py = X_train[:, 1][y_train == j]\n",
    "        plt.scatter(px, py, c=colors[j])\n",
    "    # equation of a line\n",
    "    ys = (-clf.intercept_[i]-xs*clf.coef_[i,0])/clf.coef_[i,1]\n",
    "    plt.plot(xs,ys)\n",
    "plt.show()"
   ]
  },
  {
   "cell_type": "markdown",
   "metadata": {
    "id": "YXsie5EeuTdR"
   },
   "source": [
    "## Evaluation"
   ]
  },
  {
   "cell_type": "code",
   "execution_count": 10,
   "metadata": {
    "colab": {
     "base_uri": "https://localhost:8080/"
    },
    "id": "XWQxFkqRqbcz",
    "outputId": "71326474-15cf-4ff1-8ede-f832c5659b3a"
   },
   "outputs": [
    {
     "name": "stdout",
     "output_type": "stream",
     "text": [
      "[0]\n",
      "[[ 25.10525915   0.2856414  -11.11864809]]\n"
     ]
    }
   ],
   "source": [
    "#Evaluate a particular instance\n",
    "print (clf.predict(scaler.transform([[4.7, 3.1]])))\n",
    "\n",
    "#If our classifier is right, this Iris flower is a setosa.\n",
    "\n",
    "\n",
    "#we will select the boundary line whose distance to the\n",
    "#instance is longer.\n",
    "print (clf.decision_function(scaler.transform([[4.7, 3.1]])))"
   ]
  },
  {
   "cell_type": "markdown",
   "metadata": {
    "id": "4R3w1yk9u6XH"
   },
   "source": [
    "The simplest performance measure is accuracy: given a classifier and an evaluation dataset, it measures the proportion of instances correctly classified by the classifier."
   ]
  },
  {
   "cell_type": "code",
   "execution_count": 11,
   "metadata": {
    "colab": {
     "base_uri": "https://localhost:8080/"
    },
    "id": "yqRLQzYZqx6H",
    "outputId": "89a7edd5-84c6-4f20-c5dd-7c5ac298aa4c"
   },
   "outputs": [
    {
     "name": "stdout",
     "output_type": "stream",
     "text": [
      "Training accuracy:  0.8125\n"
     ]
    }
   ],
   "source": [
    "from sklearn import metrics\n",
    "y_train_pred = clf.predict(X_train)\n",
    "print (\"Training accuracy: \", metrics.accuracy_score(y_train, y_train_pred))"
   ]
  },
  {
   "cell_type": "code",
   "execution_count": 12,
   "metadata": {
    "colab": {
     "base_uri": "https://localhost:8080/"
    },
    "id": "b76wEeDlq1QU",
    "outputId": "210eced6-96fa-4fab-c273-d449f5edebe3"
   },
   "outputs": [
    {
     "name": "stdout",
     "output_type": "stream",
     "text": [
      "Testing accuracy:  0.7105263157894737\n"
     ]
    }
   ],
   "source": [
    "#Measure accuracy on the testing set\n",
    "y_pred = clf.predict(X_test)\n",
    "print (\"Testing accuracy: \", metrics.accuracy_score(y_test, y_pred))"
   ]
  },
  {
   "cell_type": "markdown",
   "metadata": {
    "id": "yUMSHFyuvDGU"
   },
   "source": [
    "\n",
    "\n",
    "Accuracy on the test set is a good performance measure when the number of instances of each class is similar, that is, we have a uniform distribution of classes.\n",
    "\n",
    "But if you have a skewed distribution (say, 99 percent of the instances belong to one class), a classifier that always predicts the majority class could have an excellent performance in terms of accuracy despite the fact that it is an extremely naive method.\n"
   ]
  },
  {
   "cell_type": "code",
   "execution_count": 13,
   "metadata": {
    "colab": {
     "base_uri": "https://localhost:8080/"
    },
    "id": "hRWdKF1Kq5Sm",
    "outputId": "42a9913f-73b4-48e0-b27d-3f3407bb16fb"
   },
   "outputs": [
    {
     "name": "stdout",
     "output_type": "stream",
     "text": [
      "              precision    recall  f1-score   support\n",
      "\n",
      "      setosa       1.00      1.00      1.00         8\n",
      "  versicolor       0.50      0.27      0.35        11\n",
      "   virginica       0.67      0.84      0.74        19\n",
      "\n",
      "    accuracy                           0.71        38\n",
      "   macro avg       0.72      0.70      0.70        38\n",
      "weighted avg       0.69      0.71      0.68        38\n",
      "\n"
     ]
    }
   ],
   "source": [
    "print (metrics.classification_report(y_test, y_pred, target_names=iris.target_names))"
   ]
  },
  {
   "cell_type": "code",
   "execution_count": 14,
   "metadata": {
    "colab": {
     "base_uri": "https://localhost:8080/"
    },
    "id": "AzVCGq_Iq8o5",
    "outputId": "5fe53268-824f-4eae-87ce-7f8c6a84a2a9"
   },
   "outputs": [
    {
     "name": "stdout",
     "output_type": "stream",
     "text": [
      "[[ 8  0  0]\n",
      " [ 0  3  8]\n",
      " [ 0  3 16]]\n"
     ]
    }
   ],
   "source": [
    "print (metrics.confusion_matrix(y_test, y_pred))"
   ]
  },
  {
   "cell_type": "markdown",
   "metadata": {
    "id": "u92s3RRvvVEF"
   },
   "source": [
    "## Cross Validation\n",
    "\n",
    "The usual steps for k-fold cross-validation are the following:\n",
    "\n",
    "- Partition the dataset into k different subsets.\n",
    "- Create k different models by training on k-1 subsets and testing on the remaining subset.\n",
    "- Measure the performance on each of the k models and take the average measure.\n",
    "\n",
    "Cross-validation, by default, uses accuracy as its performance measure, but we could select the measurement by passing any scorer function as an argument.\n",
    "\n",
    "We will have to create a composite estimator made by a pipeline of the standardization and linear models.\n",
    "\n",
    "With this technique, we make sure that each iteration will standardize the data and then train/test on the transformed data.\n",
    "\n",
    "The Pipeline class is also useful to simplify the construction of more complex models that chain-multiply the transformations.\n"
   ]
  },
  {
   "cell_type": "code",
   "execution_count": 15,
   "metadata": {
    "colab": {
     "base_uri": "https://localhost:8080/"
    },
    "id": "9JbD03UVq-qk",
    "outputId": "a207bd13-76d6-4db9-dddb-b0e5dfcedaff"
   },
   "outputs": [
    {
     "name": "stdout",
     "output_type": "stream",
     "text": [
      "[0.56666667 0.7        0.7        0.86666667 0.86666667]\n"
     ]
    }
   ],
   "source": [
    "#Create a new classifier: a pipeline of the standarizer and the linear model. \n",
    "#Measure the cross-validation accuracy.\n",
    "\n",
    "from sklearn.model_selection import cross_val_score, KFold\n",
    "from sklearn.pipeline import Pipeline\n",
    "\n",
    "# create a composite estimator made by a pipeline of the standarization and the linear model\n",
    "clf = Pipeline([\n",
    "        ('scaler', StandardScaler()),\n",
    "        ('linear_model', SGDClassifier())\n",
    "])\n",
    "# create a k-fold croos validation iterator of k=5 folds\n",
    "cv = KFold(n_splits=5, random_state=33, shuffle=True)\n",
    "# by default the score used is the one returned by score method of the estimator (accuracy)\n",
    "scores = cross_val_score(clf, X, y, cv=cv)\n",
    "print (scores)"
   ]
  },
  {
   "cell_type": "code",
   "execution_count": 16,
   "metadata": {
    "colab": {
     "base_uri": "https://localhost:8080/"
    },
    "id": "-2swzyc_rFOb",
    "outputId": "c3769ac7-83e8-4309-b2c9-bf179b07de8c"
   },
   "outputs": [
    {
     "name": "stdout",
     "output_type": "stream",
     "text": [
      "Mean score: 0.740 (+/-0.057)\n"
     ]
    }
   ],
   "source": [
    "#Calculate the mean and standard error of cross-validation accuracy\n",
    "\n",
    "from scipy.stats import sem\n",
    "\n",
    "def mean_score(scores):\n",
    "    \"\"\"Print the empirical mean score and standard error of the mean.\"\"\"\n",
    "    return (\"Mean score: {0:.3f} (+/-{1:.3f})\").format(\n",
    "        np.mean(scores), sem(scores))\n",
    "\n",
    "print (mean_score(scores))"
   ]
  },
  {
   "cell_type": "markdown",
   "metadata": {
    "id": "GNFrhtQZ0NXU"
   },
   "source": [
    "## Task <br>\n",
    "Use all of the above as well as  any more tricks you can find on the wine dataset and try to get as good a metric value as you can.\n",
    "\n",
    "https://scikit-learn.org/stable/modules/generated/sklearn.datasets.load_wine.html#sklearn.datasets.load_wine"
   ]
  },
  {
   "cell_type": "code",
   "execution_count": 43,
   "metadata": {
    "colab": {
     "base_uri": "https://localhost:8080/"
    },
    "id": "3U9KMrm_pP6o",
    "outputId": "ebe81d10-8145-4165-ace9-5390114b289b"
   },
   "outputs": [
    {
     "name": "stdout",
     "output_type": "stream",
     "text": [
      "Populating the interactive namespace from numpy and matplotlib\n"
     ]
    }
   ],
   "source": [
    "%pylab inline\n",
    "#Populating the interactive namespace from numpy and matplotlib\n",
    "#Import scikit-learn, numpy and pyplot\n",
    "import sklearn as sk\n",
    "import numpy as np\n",
    "import matplotlib.pyplot as plt"
   ]
  },
  {
   "cell_type": "code",
   "execution_count": 44,
   "metadata": {
    "colab": {
     "base_uri": "https://localhost:8080/"
    },
    "id": "3l_Rt1GypQhG",
    "outputId": "1c969a54-8a3d-4d48-9eaf-72becb52197f"
   },
   "outputs": [
    {
     "name": "stdout",
     "output_type": "stream",
     "text": [
      "(178, 13) (178,)\n",
      "[1.423e+01 1.710e+00 2.430e+00 1.560e+01 1.270e+02 2.800e+00 3.060e+00\n",
      " 2.800e-01 2.290e+00 5.640e+00 1.040e+00 3.920e+00 1.065e+03] 0\n"
     ]
    }
   ],
   "source": [
    "#Load wine dataset\n",
    "from sklearn import datasets\n",
    "wine = datasets.load_wine()\n",
    "X_wine, y_wine = wine.data, wine.target\n",
    "print(X_wine.shape, y_wine.shape)\n",
    "print( X_wine[0], y_wine[0])"
   ]
  },
  {
   "cell_type": "code",
   "execution_count": 45,
   "metadata": {
    "colab": {
     "base_uri": "https://localhost:8080/"
    },
    "id": "-OaK4AgZpV2N",
    "outputId": "7a828a53-3d6a-4473-d7ea-10e1898d38e6"
   },
   "outputs": [
    {
     "name": "stdout",
     "output_type": "stream",
     "text": [
      "(133, 13) (133,)\n"
     ]
    }
   ],
   "source": [
    "from sklearn.model_selection import train_test_split\n",
    "from sklearn.preprocessing import StandardScaler\n",
    "\n",
    "# Get dataset with only the first two attributes\n",
    "X, y = X_wine, y_wine\n",
    "# Split the dataset into a training and a testing set\n",
    "# Test set will be the 25% taken randomly\n",
    "X_train, X_test, y_train, y_test = train_test_split(X, y, test_size=0.25, random_state=33)\n",
    "print (X_train.shape, y_train.shape)"
   ]
  },
  {
   "cell_type": "markdown",
   "metadata": {
    "id": "Sv8ozixfsaL0"
   },
   "source": [
    "## Standarize the features"
   ]
  },
  {
   "cell_type": "code",
   "execution_count": 46,
   "metadata": {
    "id": "YMmz-lnVpbiV"
   },
   "outputs": [],
   "source": [
    "#For each feature, calculate the average, subtract the mean\n",
    "#value from the feature value, and divide the result by their standard deviation. After\n",
    "#scaling, each feature will have a zero average, with a standard deviation of one.\n",
    "scaler = StandardScaler().fit(X_train)\n",
    "X_train = scaler.transform(X_train)\n",
    "\n",
    "X_test = scaler.transform(X_test)"
   ]
  },
  {
   "cell_type": "markdown",
   "metadata": {
    "id": "B5Bg5Xa8shKL"
   },
   "source": [
    "## Setting up the classifier"
   ]
  },
  {
   "cell_type": "code",
   "execution_count": 47,
   "metadata": {
    "colab": {
     "base_uri": "https://localhost:8080/"
    },
    "id": "yRO7wUgWqJLr",
    "outputId": "b5f220ac-73c3-413a-d978-7db12fd8dd22"
   },
   "outputs": [
    {
     "data": {
      "text/plain": [
       "SGDClassifier()"
      ]
     },
     "execution_count": 47,
     "metadata": {},
     "output_type": "execute_result"
    }
   ],
   "source": [
    "# create the linear model classifier\n",
    "from sklearn.linear_model import SGDClassifier\n",
    "clf = SGDClassifier()\n",
    "# fit (train) the classifier\n",
    "clf.fit(X_train, y_train)"
   ]
  },
  {
   "cell_type": "code",
   "execution_count": 48,
   "metadata": {
    "colab": {
     "base_uri": "https://localhost:8080/"
    },
    "id": "FUJ_PNwMqOLv",
    "outputId": "6acf801e-5464-4374-ff62-0b60b40465ef"
   },
   "outputs": [
    {
     "name": "stdout",
     "output_type": "stream",
     "text": [
      "[[ 2.95897687e+01  1.38553586e+01  3.51033778e+01 -2.82072584e+01\n",
      "  -8.32417846e+00  8.42010721e+00  4.36178742e+00 -1.19046772e+00\n",
      "   8.19166788e-01 -3.00420720e+00 -5.46827298e+00  2.36792386e+01\n",
      "   2.76900047e+01]\n",
      " [-2.80374566e+01 -2.39624064e+01 -1.58811600e+01  2.01079292e+01\n",
      "   1.59069195e+01 -4.47269693e-02  2.32889862e+01  1.20326327e+01\n",
      "   6.87929374e-01 -4.59421969e+01  2.11354736e+01 -2.74072639e+00\n",
      "  -3.78238994e+01]\n",
      " [ 9.52700887e-01  8.57849958e+00  1.87573208e+01  4.23618400e+00\n",
      "  -6.68031784e+00 -8.67008828e+00 -2.99937671e+01 -7.64347031e+00\n",
      "  -1.12386056e+01  2.65514112e+01 -1.17355834e+01 -1.24285492e+01\n",
      "   8.93904483e-01]]\n",
      "[-50.26172415 -17.03052513 -54.65145018]\n"
     ]
    }
   ],
   "source": [
    "# print learned coeficients\n",
    "print (clf.coef_)\n",
    "print (clf.intercept_)"
   ]
  },
  {
   "cell_type": "markdown",
   "metadata": {
    "id": "h78uyP5vs2D3"
   },
   "source": [
    "<b>coef_</b>: ndarray of shape (1, n_features) if n_classes == 2 else (n_classes, n_features) Weights assigned to the features. <br>\n",
    "<b>intercept_</b>: ndarray of shape (1,) if n_classes == 2 else (n_classes,) Constants in decision function.\n",
    "\n"
   ]
  },
  {
   "cell_type": "markdown",
   "metadata": {
    "id": "8H7PdqI9xNgR"
   },
   "source": [
    "Let us create a reduced version of this wine dataset consisting of only two classes and see how the coef_ and intercept_ features differ in shape."
   ]
  },
  {
   "cell_type": "markdown",
   "metadata": {
    "id": "YXsie5EeuTdR"
   },
   "source": [
    "## Evaluation"
   ]
  },
  {
   "cell_type": "markdown",
   "metadata": {
    "id": "4R3w1yk9u6XH"
   },
   "source": [
    "The simplest performance measure is accuracy: given a classifier and an evaluation dataset, it measures the proportion of instances correctly classified by the classifier."
   ]
  },
  {
   "cell_type": "code",
   "execution_count": 49,
   "metadata": {
    "colab": {
     "base_uri": "https://localhost:8080/"
    },
    "id": "yqRLQzYZqx6H",
    "outputId": "89a7edd5-84c6-4f20-c5dd-7c5ac298aa4c"
   },
   "outputs": [
    {
     "name": "stdout",
     "output_type": "stream",
     "text": [
      "Training accuracy:  0.9924812030075187\n"
     ]
    }
   ],
   "source": [
    "from sklearn import metrics\n",
    "y_train_pred = clf.predict(X_train)\n",
    "print (\"Training accuracy: \", metrics.accuracy_score(y_train, y_train_pred))"
   ]
  },
  {
   "cell_type": "code",
   "execution_count": 51,
   "metadata": {
    "colab": {
     "base_uri": "https://localhost:8080/"
    },
    "id": "b76wEeDlq1QU",
    "outputId": "210eced6-96fa-4fab-c273-d449f5edebe3"
   },
   "outputs": [
    {
     "name": "stdout",
     "output_type": "stream",
     "text": [
      "Testing accuracy:  0.9333333333333333\n"
     ]
    }
   ],
   "source": [
    "#Measure accuracy on the testing set\n",
    "y_pred = clf.predict(X_test)\n",
    "print (\"Testing accuracy: \", metrics.accuracy_score(y_test, y_pred))"
   ]
  },
  {
   "cell_type": "markdown",
   "metadata": {
    "id": "yUMSHFyuvDGU"
   },
   "source": [
    "\n",
    "\n",
    "Accuracy on the test set is a good performance measure when the number of instances of each class is similar, that is, we have a uniform distribution of classes.\n",
    "\n",
    "But if you have a skewed distribution (say, 99 percent of the instances belong to one class), a classifier that always predicts the majority class could have an excellent performance in terms of accuracy despite the fact that it is an extremely naive method.\n"
   ]
  },
  {
   "cell_type": "code",
   "execution_count": 40,
   "metadata": {
    "colab": {
     "base_uri": "https://localhost:8080/"
    },
    "id": "hRWdKF1Kq5Sm",
    "outputId": "42a9913f-73b4-48e0-b27d-3f3407bb16fb"
   },
   "outputs": [
    {
     "name": "stdout",
     "output_type": "stream",
     "text": [
      "              precision    recall  f1-score   support\n",
      "\n",
      "     class_0       1.00      0.93      0.96        14\n",
      "     class_1       0.89      1.00      0.94        17\n",
      "     class_2       1.00      0.93      0.96        14\n",
      "\n",
      "    accuracy                           0.96        45\n",
      "   macro avg       0.96      0.95      0.96        45\n",
      "weighted avg       0.96      0.96      0.96        45\n",
      "\n"
     ]
    }
   ],
   "source": [
    "print (metrics.classification_report(y_test, y_pred, target_names=wine.target_names))"
   ]
  },
  {
   "cell_type": "code",
   "execution_count": 55,
   "metadata": {
    "colab": {
     "base_uri": "https://localhost:8080/"
    },
    "id": "AzVCGq_Iq8o5",
    "outputId": "5fe53268-824f-4eae-87ce-7f8c6a84a2a9"
   },
   "outputs": [
    {
     "name": "stdout",
     "output_type": "stream",
     "text": [
      "[[12  2  0]\n",
      " [ 0 17  0]\n",
      " [ 0  1 13]]\n"
     ]
    }
   ],
   "source": [
    "print (metrics.confusion_matrix(y_test, y_pred))"
   ]
  },
  {
   "cell_type": "markdown",
   "metadata": {
    "id": "u92s3RRvvVEF"
   },
   "source": [
    "## Cross Validation\n",
    "\n",
    "The usual steps for k-fold cross-validation are the following:\n",
    "\n",
    "- Partition the dataset into k different subsets.\n",
    "- Create k different models by training on k-1 subsets and testing on the remaining subset.\n",
    "- Measure the performance on each of the k models and take the average measure.\n",
    "\n",
    "Cross-validation, by default, uses accuracy as its performance measure, but we could select the measurement by passing any scorer function as an argument.\n",
    "\n",
    "We will have to create a composite estimator made by a pipeline of the standardization and linear models.\n",
    "\n",
    "With this technique, we make sure that each iteration will standardize the data and then train/test on the transformed data.\n",
    "\n",
    "The Pipeline class is also useful to simplify the construction of more complex models that chain-multiply the transformations.\n"
   ]
  },
  {
   "cell_type": "code",
   "execution_count": 56,
   "metadata": {
    "colab": {
     "base_uri": "https://localhost:8080/"
    },
    "id": "9JbD03UVq-qk",
    "outputId": "a207bd13-76d6-4db9-dddb-b0e5dfcedaff"
   },
   "outputs": [
    {
     "name": "stdout",
     "output_type": "stream",
     "text": [
      "[0.94444444 0.97222222 1.         1.         0.94285714]\n"
     ]
    }
   ],
   "source": [
    "#Create a new classifier: a pipeline of the standarizer and the linear model. \n",
    "#Measure the cross-validation accuracy.\n",
    "\n",
    "from sklearn.model_selection import cross_val_score, KFold\n",
    "from sklearn.pipeline import Pipeline\n",
    "\n",
    "# create a composite estimator made by a pipeline of the standarization and the linear model\n",
    "clf = Pipeline([\n",
    "        ('scaler', StandardScaler()),\n",
    "        ('linear_model', SGDClassifier())\n",
    "])\n",
    "# create a k-fold croos validation iterator of k=5 folds\n",
    "cv = KFold(n_splits=5, random_state=33, shuffle=True)\n",
    "# by default the score used is the one returned by score method of the estimator (accuracy)\n",
    "scores = cross_val_score(clf, X, y, cv=cv)\n",
    "print (scores)"
   ]
  },
  {
   "cell_type": "code",
   "execution_count": 57,
   "metadata": {
    "colab": {
     "base_uri": "https://localhost:8080/"
    },
    "id": "-2swzyc_rFOb",
    "outputId": "c3769ac7-83e8-4309-b2c9-bf179b07de8c"
   },
   "outputs": [
    {
     "name": "stdout",
     "output_type": "stream",
     "text": [
      "Mean score: 0.972 (+/-0.013)\n"
     ]
    }
   ],
   "source": [
    "#Calculate the mean and standard error of cross-validation accuracy\n",
    "\n",
    "from scipy.stats import sem\n",
    "\n",
    "def mean_score(scores):\n",
    "    \"\"\"Print the empirical mean score and standard error of the mean.\"\"\"\n",
    "    return (\"Mean score: {0:.3f} (+/-{1:.3f})\").format(\n",
    "        np.mean(scores), sem(scores))\n",
    "\n",
    "print (mean_score(scores))"
   ]
  }
 ],
 "metadata": {
  "colab": {
   "collapsed_sections": [],
   "name": "Copy of Linear Classifier Tutorial.ipynb",
   "provenance": []
  },
  "kernelspec": {
   "display_name": "Python 3",
   "language": "python",
   "name": "python3"
  },
  "language_info": {
   "codemirror_mode": {
    "name": "ipython",
    "version": 3
   },
   "file_extension": ".py",
   "mimetype": "text/x-python",
   "name": "python",
   "nbconvert_exporter": "python",
   "pygments_lexer": "ipython3",
   "version": "3.9.5"
  }
 },
 "nbformat": 4,
 "nbformat_minor": 4
}
